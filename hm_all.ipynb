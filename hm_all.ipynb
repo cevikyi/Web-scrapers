{
 "cells": [
  {
   "cell_type": "code",
   "execution_count": 2,
   "id": "bd14aa72",
   "metadata": {},
   "outputs": [],
   "source": [
    "from bs4 import BeautifulSoup\n",
    "import requests\n",
    "import pandas as pd\n",
    "import math\n",
    "import re\n",
    "import json"
   ]
  },
  {
   "cell_type": "markdown",
   "id": "c2cf445a",
   "metadata": {},
   "source": [
    "# 1. Append main category links to a file"
   ]
  },
  {
   "cell_type": "code",
   "execution_count": 3,
   "id": "393ae6c4",
   "metadata": {},
   "outputs": [],
   "source": [
    "main_url = \"https://www2.hm.com/tr_tr/index.html\"\n",
    "agent = {\"User-Agent\":'Mozilla/5.0 (Windows NT 6.3; WOW64) AppleWebKit/537.36 (KHTML, like Gecko) Chrome/59.0.3071.115 Safari/537.36'}\n",
    "\n",
    "urun_sonuclari = requests.get(main_url,headers=agent)\n",
    "sonuc_soup = BeautifulSoup(urun_sonuclari.text, \"html.parser\")"
   ]
  },
  {
   "cell_type": "code",
   "execution_count": 4,
   "id": "ae60f270",
   "metadata": {},
   "outputs": [],
   "source": [
    "link_list = sonuc_soup.find_all(class_=\"menu__sub-link\") #ilgili class_'ta href'ler yer alıyor\n",
    "cats = []\n",
    "for i in link_list:\n",
    "    cats.append(i.get('href').replace(\".html\",\"\"))"
   ]
  },
  {
   "cell_type": "markdown",
   "id": "5dc4a779",
   "metadata": {},
   "source": [
    "Delete unnecessary category links afterwards"
   ]
  },
  {
   "cell_type": "code",
   "execution_count": 5,
   "id": "6b120b5e",
   "metadata": {},
   "outputs": [
    {
     "data": {
      "text/plain": [
       "350"
      ]
     },
     "execution_count": 5,
     "metadata": {},
     "output_type": "execute_result"
    }
   ],
   "source": [
    "cats = [x for x in cats if(\"view-all\" not in x and \"hepsini-incele\" not in x)]\n",
    "len(cats)"
   ]
  },
  {
   "cell_type": "markdown",
   "id": "e611907a",
   "metadata": {},
   "source": [
    "## 2. Scraping"
   ]
  },
  {
   "cell_type": "code",
   "execution_count": 6,
   "id": "4b2c8b9e",
   "metadata": {},
   "outputs": [],
   "source": [
    "agent = {\"User-Agent\":'Mozilla/5.0 (Windows NT 6.3; WOW64) AppleWebKit/537.36 (KHTML, like Gecko) Chrome/59.0.3071.115 Safari/537.36'}\n",
    "prod_list = []\n",
    "'''\n",
    "1.\n",
    "ilgili kategorileri url'e ekleyerek json dict'lerden bilgileri çekiyoruz\n",
    "2.\n",
    "en fazla 10 sayfa (360 ürün) alıyor, değiştirebiliriz\n",
    "total_urun bu sebeple kapatıldı\n",
    "3.\n",
    "dandik linkler ve indirimsiz ürünler için try/except kullanıyorum\n",
    "'''\n",
    "for cat in cats:\n",
    "    url = f'https://www2.hm.com/{cat}/_jcr_content/main/productlisting.display.json?sort=stock&image-size=small&image=model&offset=36&page-size=450'\n",
    "    try:\n",
    "        r = requests.get(url,headers = agent)\n",
    "        data = dict(r.json())\n",
    "        #total_urun = int(data[\"total\"])\n",
    "        products =  data[\"products\"]\n",
    "        for prod in products:\n",
    "            title = prod[\"title\"]\n",
    "            category = prod[\"category\"]\n",
    "            price = prod[\"price\"]\n",
    "            disc_price = prod[\"redPrice\"]\n",
    "\n",
    "            hm_dict = {\n",
    "                'title':title,\n",
    "                'category':category,\n",
    "                'ust_category' : cat,\n",
    "                'price':price,\n",
    "                'disc_price':disc_price\n",
    "            }\n",
    "            prod_list.append(hm_dict)\n",
    "    except:\n",
    "        pass\n",
    "hm_prods = pd.DataFrame(prod_list)"
   ]
  },
  {
   "cell_type": "markdown",
   "id": "c41575b2",
   "metadata": {},
   "source": [
    "#  Format Change"
   ]
  },
  {
   "cell_type": "code",
   "execution_count": 7,
   "id": "497097ec",
   "metadata": {},
   "outputs": [
    {
     "data": {
      "text/html": [
       "<div>\n",
       "<style scoped>\n",
       "    .dataframe tbody tr th:only-of-type {\n",
       "        vertical-align: middle;\n",
       "    }\n",
       "\n",
       "    .dataframe tbody tr th {\n",
       "        vertical-align: top;\n",
       "    }\n",
       "\n",
       "    .dataframe thead th {\n",
       "        text-align: right;\n",
       "    }\n",
       "</style>\n",
       "<table border=\"1\" class=\"dataframe\">\n",
       "  <thead>\n",
       "    <tr style=\"text-align: right;\">\n",
       "      <th></th>\n",
       "      <th>title</th>\n",
       "      <th>category</th>\n",
       "      <th>ust_category</th>\n",
       "      <th>price</th>\n",
       "      <th>disc_price</th>\n",
       "    </tr>\n",
       "  </thead>\n",
       "  <tbody>\n",
       "    <tr>\n",
       "      <th>0</th>\n",
       "      <td>Bukle Ceket</td>\n",
       "      <td>ladies_jacketscoats_jackets</td>\n",
       "      <td>/tr_tr/kadin/yeni-urunler/giysi</td>\n",
       "      <td>619.99</td>\n",
       "      <td>619.99</td>\n",
       "    </tr>\n",
       "    <tr>\n",
       "      <th>1</th>\n",
       "      <td>Üstte Fermuarlı Lastik Örgülü Kazak</td>\n",
       "      <td>ladies_cardigansjumpers_jumpers</td>\n",
       "      <td>/tr_tr/kadin/yeni-urunler/giysi</td>\n",
       "      <td>699.99</td>\n",
       "      <td>699.99</td>\n",
       "    </tr>\n",
       "    <tr>\n",
       "      <th>2</th>\n",
       "      <td>Yüksek Belli Şık Pantolon</td>\n",
       "      <td>ladies_trousers_highwaisted</td>\n",
       "      <td>/tr_tr/kadin/yeni-urunler/giysi</td>\n",
       "      <td>459.99</td>\n",
       "      <td>459.99</td>\n",
       "    </tr>\n",
       "    <tr>\n",
       "      <th>3</th>\n",
       "      <td>Kruvaze Oversize Ceket</td>\n",
       "      <td>ladies_blazers</td>\n",
       "      <td>/tr_tr/kadin/yeni-urunler/giysi</td>\n",
       "      <td>619.99</td>\n",
       "      <td>619.99</td>\n",
       "    </tr>\n",
       "    <tr>\n",
       "      <th>4</th>\n",
       "      <td>İspanyol Paçalı Fitilli Kadife Pantolon</td>\n",
       "      <td>ladies_trousers_flare</td>\n",
       "      <td>/tr_tr/kadin/yeni-urunler/giysi</td>\n",
       "      <td>619.99</td>\n",
       "      <td>619.99</td>\n",
       "    </tr>\n",
       "    <tr>\n",
       "      <th>...</th>\n",
       "      <td>...</td>\n",
       "      <td>...</td>\n",
       "      <td>...</td>\n",
       "      <td>...</td>\n",
       "      <td>...</td>\n",
       "    </tr>\n",
       "    <tr>\n",
       "      <th>29427</th>\n",
       "      <td>4’lü Keçe Bardak Altlığı</td>\n",
       "      <td>home_kitchen_servingware</td>\n",
       "      <td>/tr_tr/sustainability-at-hm/our-products/home</td>\n",
       "      <td>99.99</td>\n",
       "      <td>99.99</td>\n",
       "    </tr>\n",
       "    <tr>\n",
       "      <th>29428</th>\n",
       "      <td>Tüfte Kilim</td>\n",
       "      <td>home_rugs_largerugs</td>\n",
       "      <td>/tr_tr/sustainability-at-hm/our-products/home</td>\n",
       "      <td>3899.00</td>\n",
       "      <td>3899.00</td>\n",
       "    </tr>\n",
       "    <tr>\n",
       "      <th>29429</th>\n",
       "      <td>Keçe Kutu</td>\n",
       "      <td>home_decorations_decoraccessories</td>\n",
       "      <td>/tr_tr/sustainability-at-hm/our-products/home</td>\n",
       "      <td>619.99</td>\n",
       "      <td>619.99</td>\n",
       "    </tr>\n",
       "    <tr>\n",
       "      <th>29430</th>\n",
       "      <td>Tüfte Kilim</td>\n",
       "      <td>home_rugs_largerugs</td>\n",
       "      <td>/tr_tr/sustainability-at-hm/our-products/home</td>\n",
       "      <td>3099.00</td>\n",
       "      <td>3099.00</td>\n",
       "    </tr>\n",
       "    <tr>\n",
       "      <th>29431</th>\n",
       "      <td>Bitkisel Boyalı Kurulama Bezi</td>\n",
       "      <td>home_cookwarebakeware_teatowel</td>\n",
       "      <td>/tr_tr/sustainability-at-hm/our-products/home</td>\n",
       "      <td>129.99</td>\n",
       "      <td>129.99</td>\n",
       "    </tr>\n",
       "  </tbody>\n",
       "</table>\n",
       "<p>29432 rows × 5 columns</p>\n",
       "</div>"
      ],
      "text/plain": [
       "                                         title  \\\n",
       "0                                  Bukle Ceket   \n",
       "1          Üstte Fermuarlı Lastik Örgülü Kazak   \n",
       "2                    Yüksek Belli Şık Pantolon   \n",
       "3                       Kruvaze Oversize Ceket   \n",
       "4      İspanyol Paçalı Fitilli Kadife Pantolon   \n",
       "...                                        ...   \n",
       "29427                 4’lü Keçe Bardak Altlığı   \n",
       "29428                              Tüfte Kilim   \n",
       "29429                                Keçe Kutu   \n",
       "29430                              Tüfte Kilim   \n",
       "29431            Bitkisel Boyalı Kurulama Bezi   \n",
       "\n",
       "                                category  \\\n",
       "0            ladies_jacketscoats_jackets   \n",
       "1        ladies_cardigansjumpers_jumpers   \n",
       "2            ladies_trousers_highwaisted   \n",
       "3                         ladies_blazers   \n",
       "4                  ladies_trousers_flare   \n",
       "...                                  ...   \n",
       "29427           home_kitchen_servingware   \n",
       "29428                home_rugs_largerugs   \n",
       "29429  home_decorations_decoraccessories   \n",
       "29430                home_rugs_largerugs   \n",
       "29431     home_cookwarebakeware_teatowel   \n",
       "\n",
       "                                        ust_category    price  disc_price  \n",
       "0                    /tr_tr/kadin/yeni-urunler/giysi   619.99      619.99  \n",
       "1                    /tr_tr/kadin/yeni-urunler/giysi   699.99      699.99  \n",
       "2                    /tr_tr/kadin/yeni-urunler/giysi   459.99      459.99  \n",
       "3                    /tr_tr/kadin/yeni-urunler/giysi   619.99      619.99  \n",
       "4                    /tr_tr/kadin/yeni-urunler/giysi   619.99      619.99  \n",
       "...                                              ...      ...         ...  \n",
       "29427  /tr_tr/sustainability-at-hm/our-products/home    99.99       99.99  \n",
       "29428  /tr_tr/sustainability-at-hm/our-products/home  3899.00     3899.00  \n",
       "29429  /tr_tr/sustainability-at-hm/our-products/home   619.99      619.99  \n",
       "29430  /tr_tr/sustainability-at-hm/our-products/home  3099.00     3099.00  \n",
       "29431  /tr_tr/sustainability-at-hm/our-products/home   129.99      129.99  \n",
       "\n",
       "[29432 rows x 5 columns]"
      ]
     },
     "execution_count": 7,
     "metadata": {},
     "output_type": "execute_result"
    }
   ],
   "source": [
    "hm_prods[\"disc_price\"]= hm_prods.apply(lambda x: x['price'] if x[\"disc_price\"] == \"\" else x['disc_price'], axis=1)\n",
    "hm_prods[\"price\"] = hm_prods[\"price\"].apply(lambda x: x.replace(\" TL\",\"\"))\n",
    "hm_prods[\"disc_price\"] = hm_prods[\"disc_price\"].apply(lambda x: x.replace(\" TL\",\"\"))\n",
    "hm_prods[\"price\"] = [x.replace(\"\\xa0\",\"\") for x in hm_prods[\"price\"]]\n",
    "hm_prods[\"disc_price\"] = [x.replace(\"\\xa0\",\"\") for x in hm_prods[\"disc_price\"]]\n",
    "hm_prods[\"price\"] = [x.replace(\",\",\".\") for x in hm_prods[\"price\"]]\n",
    "hm_prods[\"disc_price\"] = [x.replace(\",\",\".\") for x in hm_prods[\"disc_price\"]]\n",
    "hm_prods[\"price\"] = hm_prods.price.astype(float)\n",
    "hm_prods[\"disc_price\"] = hm_prods.disc_price.astype(float)\n",
    "hm_prods"
   ]
  },
  {
   "cell_type": "code",
   "execution_count": 9,
   "id": "bede0ac6",
   "metadata": {},
   "outputs": [
    {
     "data": {
      "text/plain": [
       "422.0494122045937"
      ]
     },
     "execution_count": 9,
     "metadata": {},
     "output_type": "execute_result"
    }
   ],
   "source": [
    "hm_prods.price.mean()         "
   ]
  },
  {
   "cell_type": "code",
   "execution_count": null,
   "id": "288f2a5c",
   "metadata": {},
   "outputs": [],
   "source": []
  }
 ],
 "metadata": {
  "kernelspec": {
   "display_name": "Python 3.9.12 ('base')",
   "language": "python",
   "name": "python3"
  },
  "language_info": {
   "codemirror_mode": {
    "name": "ipython",
    "version": 3
   },
   "file_extension": ".py",
   "mimetype": "text/x-python",
   "name": "python",
   "nbconvert_exporter": "python",
   "pygments_lexer": "ipython3",
   "version": "3.9.12"
  },
  "vscode": {
   "interpreter": {
    "hash": "2b1b00fd72935d851e8499a7d41a49cbfba4784a9fe649c810eb2217d2928957"
   }
  }
 },
 "nbformat": 4,
 "nbformat_minor": 5
}
